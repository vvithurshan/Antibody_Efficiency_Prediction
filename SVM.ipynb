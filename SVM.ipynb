{
  "cells": [
    {
      "cell_type": "markdown",
      "metadata": {
        "id": "view-in-github",
        "colab_type": "text"
      },
      "source": [
        "<a href=\"https://colab.research.google.com/github/vvithurshan/Antibody_Efficiency_Prediction/blob/main/SVM.ipynb\" target=\"_parent\"><img src=\"https://colab.research.google.com/assets/colab-badge.svg\" alt=\"Open In Colab\"/></a>"
      ]
    },
    {
      "cell_type": "markdown",
      "source": [
        "Reference\n",
        "\n",
        "https://towardsdatascience.com/protein-sequence-classification-99c80d0ad2df\n",
        "\n",
        "https://dmnfarrell.github.io/bioinformatics/mhclearning"
      ],
      "metadata": {
        "id": "fvjPg_JiRLti"
      }
    },
    {
      "cell_type": "code",
      "execution_count": 1,
      "metadata": {
        "id": "WVe9jaeTQvtg"
      },
      "outputs": [],
      "source": [
        "import pandas as pd\n",
        "import numpy as np\n",
        "from sklearn.model_selection import train_test_split,cross_val_score,ShuffleSplit\n",
        "from sklearn.svm import SVC\n",
        "from sklearn.model_selection import train_test_split,cross_val_score,ShuffleSplit\n",
        "from sklearn.metrics import confusion_matrix\n",
        "from sklearn.metrics import accuracy_score\n"
      ]
    },
    {
      "cell_type": "code",
      "source": [
        "!pip install epitopepredict"
      ],
      "metadata": {
        "id": "DaFh7xn6QyTr",
        "outputId": "0ce716be-a1fa-4773-fd65-37ed68c704d4",
        "colab": {
          "base_uri": "https://localhost:8080/"
        }
      },
      "execution_count": 2,
      "outputs": [
        {
          "output_type": "stream",
          "name": "stdout",
          "text": [
            "Looking in indexes: https://pypi.org/simple, https://us-python.pkg.dev/colab-wheels/public/simple/\n",
            "Collecting epitopepredict\n",
            "  Downloading epitopepredict-0.5.0.tar.gz (11.0 MB)\n",
            "\u001b[K     |████████████████████████████████| 11.0 MB 2.1 MB/s \n",
            "\u001b[?25hRequirement already satisfied: numpy>=1.10 in /usr/local/lib/python3.8/dist-packages (from epitopepredict) (1.21.6)\n",
            "Requirement already satisfied: pandas>=0.22 in /usr/local/lib/python3.8/dist-packages (from epitopepredict) (1.3.5)\n",
            "Collecting biopython>=1.78\n",
            "  Downloading biopython-1.80-cp38-cp38-manylinux_2_17_x86_64.manylinux2014_x86_64.whl (3.1 MB)\n",
            "\u001b[K     |████████████████████████████████| 3.1 MB 82.9 MB/s \n",
            "\u001b[?25hRequirement already satisfied: scikit-learn>=0.23.2 in /usr/local/lib/python3.8/dist-packages (from epitopepredict) (1.0.2)\n",
            "Requirement already satisfied: joblib>=0.16.0 in /usr/local/lib/python3.8/dist-packages (from epitopepredict) (1.2.0)\n",
            "Requirement already satisfied: future in /usr/local/lib/python3.8/dist-packages (from epitopepredict) (0.16.0)\n",
            "Requirement already satisfied: python-dateutil>=2.7.3 in /usr/local/lib/python3.8/dist-packages (from pandas>=0.22->epitopepredict) (2.8.2)\n",
            "Requirement already satisfied: pytz>=2017.3 in /usr/local/lib/python3.8/dist-packages (from pandas>=0.22->epitopepredict) (2022.6)\n",
            "Requirement already satisfied: six>=1.5 in /usr/local/lib/python3.8/dist-packages (from python-dateutil>=2.7.3->pandas>=0.22->epitopepredict) (1.15.0)\n",
            "Requirement already satisfied: threadpoolctl>=2.0.0 in /usr/local/lib/python3.8/dist-packages (from scikit-learn>=0.23.2->epitopepredict) (3.1.0)\n",
            "Requirement already satisfied: scipy>=1.1.0 in /usr/local/lib/python3.8/dist-packages (from scikit-learn>=0.23.2->epitopepredict) (1.7.3)\n",
            "Building wheels for collected packages: epitopepredict\n",
            "  Building wheel for epitopepredict (setup.py) ... \u001b[?25l\u001b[?25hdone\n",
            "  Created wheel for epitopepredict: filename=epitopepredict-0.5.0-py3-none-any.whl size=5973755 sha256=8fe6f26bb1238bb91fc268f80b2e008fd3accd7b16989e953ec4c18caf27a0b7\n",
            "  Stored in directory: /root/.cache/pip/wheels/33/0d/a5/5b2802337ae05b248638603e88da786b68227295df42f3da31\n",
            "Successfully built epitopepredict\n",
            "Installing collected packages: biopython, epitopepredict\n",
            "Successfully installed biopython-1.80 epitopepredict-0.5.0\n"
          ]
        }
      ]
    },
    {
      "cell_type": "code",
      "source": [
        "!git clone https://github.com/vvithurshan/Antibody_Efficiency_Prediction.git"
      ],
      "metadata": {
        "id": "EZqMorhLQ4AA",
        "outputId": "0b6fea0e-f6e2-47c7-d99d-04c29a0c64d5",
        "colab": {
          "base_uri": "https://localhost:8080/"
        }
      },
      "execution_count": 3,
      "outputs": [
        {
          "output_type": "stream",
          "name": "stdout",
          "text": [
            "Cloning into 'Antibody_Efficiency_Prediction'...\n",
            "remote: Enumerating objects: 17, done.\u001b[K\n",
            "remote: Counting objects: 100% (17/17), done.\u001b[K\n",
            "remote: Compressing objects: 100% (14/14), done.\u001b[K\n",
            "remote: Total 17 (delta 6), reused 0 (delta 0), pack-reused 0\u001b[K\n",
            "Unpacking objects: 100% (17/17), done.\n"
          ]
        }
      ]
    },
    {
      "cell_type": "markdown",
      "metadata": {
        "id": "t-qjQW9KQvtk"
      },
      "source": [
        "Dataset Creation"
      ]
    },
    {
      "cell_type": "code",
      "execution_count": 4,
      "metadata": {
        "id": "oMJFKQbEQvtl"
      },
      "outputs": [],
      "source": [
        "## Reading dataset\n",
        "dataset = pd.read_csv(\"./Antibody_Efficiency_Prediction/data/virus.csv\")"
      ]
    },
    {
      "cell_type": "code",
      "execution_count": 5,
      "metadata": {
        "id": "KRYDSgs_Qvtl",
        "outputId": "89492c14-54e8-4ab7-f5f5-55b5262562d5",
        "colab": {
          "base_uri": "https://localhost:8080/",
          "height": 206
        }
      },
      "outputs": [
        {
          "output_type": "execute_result",
          "data": {
            "text/plain": [
              "                       FASTA_com  IC50\n",
              "0  ALALHFYPGVYDDYGPPIARGVNTLDSWK  50.0\n",
              "1  ALALHFYPGVYDDYGPPIARGVNALDSWK  50.0\n",
              "2  ALALHFYPGVYDDYGPPIARGVNALDSWK  50.0\n",
              "3  ALALHFYPGVYDDYGPPIARGVNALDSWN  50.0\n",
              "4  ALALHFYPGVYDDYGPPIARGVNALDSWK  50.0"
            ],
            "text/html": [
              "\n",
              "  <div id=\"df-9e10a200-3db4-4371-920b-5b972456cb0f\">\n",
              "    <div class=\"colab-df-container\">\n",
              "      <div>\n",
              "<style scoped>\n",
              "    .dataframe tbody tr th:only-of-type {\n",
              "        vertical-align: middle;\n",
              "    }\n",
              "\n",
              "    .dataframe tbody tr th {\n",
              "        vertical-align: top;\n",
              "    }\n",
              "\n",
              "    .dataframe thead th {\n",
              "        text-align: right;\n",
              "    }\n",
              "</style>\n",
              "<table border=\"1\" class=\"dataframe\">\n",
              "  <thead>\n",
              "    <tr style=\"text-align: right;\">\n",
              "      <th></th>\n",
              "      <th>FASTA_com</th>\n",
              "      <th>IC50</th>\n",
              "    </tr>\n",
              "  </thead>\n",
              "  <tbody>\n",
              "    <tr>\n",
              "      <th>0</th>\n",
              "      <td>ALALHFYPGVYDDYGPPIARGVNTLDSWK</td>\n",
              "      <td>50.0</td>\n",
              "    </tr>\n",
              "    <tr>\n",
              "      <th>1</th>\n",
              "      <td>ALALHFYPGVYDDYGPPIARGVNALDSWK</td>\n",
              "      <td>50.0</td>\n",
              "    </tr>\n",
              "    <tr>\n",
              "      <th>2</th>\n",
              "      <td>ALALHFYPGVYDDYGPPIARGVNALDSWK</td>\n",
              "      <td>50.0</td>\n",
              "    </tr>\n",
              "    <tr>\n",
              "      <th>3</th>\n",
              "      <td>ALALHFYPGVYDDYGPPIARGVNALDSWN</td>\n",
              "      <td>50.0</td>\n",
              "    </tr>\n",
              "    <tr>\n",
              "      <th>4</th>\n",
              "      <td>ALALHFYPGVYDDYGPPIARGVNALDSWK</td>\n",
              "      <td>50.0</td>\n",
              "    </tr>\n",
              "  </tbody>\n",
              "</table>\n",
              "</div>\n",
              "      <button class=\"colab-df-convert\" onclick=\"convertToInteractive('df-9e10a200-3db4-4371-920b-5b972456cb0f')\"\n",
              "              title=\"Convert this dataframe to an interactive table.\"\n",
              "              style=\"display:none;\">\n",
              "        \n",
              "  <svg xmlns=\"http://www.w3.org/2000/svg\" height=\"24px\"viewBox=\"0 0 24 24\"\n",
              "       width=\"24px\">\n",
              "    <path d=\"M0 0h24v24H0V0z\" fill=\"none\"/>\n",
              "    <path d=\"M18.56 5.44l.94 2.06.94-2.06 2.06-.94-2.06-.94-.94-2.06-.94 2.06-2.06.94zm-11 1L8.5 8.5l.94-2.06 2.06-.94-2.06-.94L8.5 2.5l-.94 2.06-2.06.94zm10 10l.94 2.06.94-2.06 2.06-.94-2.06-.94-.94-2.06-.94 2.06-2.06.94z\"/><path d=\"M17.41 7.96l-1.37-1.37c-.4-.4-.92-.59-1.43-.59-.52 0-1.04.2-1.43.59L10.3 9.45l-7.72 7.72c-.78.78-.78 2.05 0 2.83L4 21.41c.39.39.9.59 1.41.59.51 0 1.02-.2 1.41-.59l7.78-7.78 2.81-2.81c.8-.78.8-2.07 0-2.86zM5.41 20L4 18.59l7.72-7.72 1.47 1.35L5.41 20z\"/>\n",
              "  </svg>\n",
              "      </button>\n",
              "      \n",
              "  <style>\n",
              "    .colab-df-container {\n",
              "      display:flex;\n",
              "      flex-wrap:wrap;\n",
              "      gap: 12px;\n",
              "    }\n",
              "\n",
              "    .colab-df-convert {\n",
              "      background-color: #E8F0FE;\n",
              "      border: none;\n",
              "      border-radius: 50%;\n",
              "      cursor: pointer;\n",
              "      display: none;\n",
              "      fill: #1967D2;\n",
              "      height: 32px;\n",
              "      padding: 0 0 0 0;\n",
              "      width: 32px;\n",
              "    }\n",
              "\n",
              "    .colab-df-convert:hover {\n",
              "      background-color: #E2EBFA;\n",
              "      box-shadow: 0px 1px 2px rgba(60, 64, 67, 0.3), 0px 1px 3px 1px rgba(60, 64, 67, 0.15);\n",
              "      fill: #174EA6;\n",
              "    }\n",
              "\n",
              "    [theme=dark] .colab-df-convert {\n",
              "      background-color: #3B4455;\n",
              "      fill: #D2E3FC;\n",
              "    }\n",
              "\n",
              "    [theme=dark] .colab-df-convert:hover {\n",
              "      background-color: #434B5C;\n",
              "      box-shadow: 0px 1px 3px 1px rgba(0, 0, 0, 0.15);\n",
              "      filter: drop-shadow(0px 1px 2px rgba(0, 0, 0, 0.3));\n",
              "      fill: #FFFFFF;\n",
              "    }\n",
              "  </style>\n",
              "\n",
              "      <script>\n",
              "        const buttonEl =\n",
              "          document.querySelector('#df-9e10a200-3db4-4371-920b-5b972456cb0f button.colab-df-convert');\n",
              "        buttonEl.style.display =\n",
              "          google.colab.kernel.accessAllowed ? 'block' : 'none';\n",
              "\n",
              "        async function convertToInteractive(key) {\n",
              "          const element = document.querySelector('#df-9e10a200-3db4-4371-920b-5b972456cb0f');\n",
              "          const dataTable =\n",
              "            await google.colab.kernel.invokeFunction('convertToInteractive',\n",
              "                                                     [key], {});\n",
              "          if (!dataTable) return;\n",
              "\n",
              "          const docLinkHtml = 'Like what you see? Visit the ' +\n",
              "            '<a target=\"_blank\" href=https://colab.research.google.com/notebooks/data_table.ipynb>data table notebook</a>'\n",
              "            + ' to learn more about interactive tables.';\n",
              "          element.innerHTML = '';\n",
              "          dataTable['output_type'] = 'display_data';\n",
              "          await google.colab.output.renderOutput(dataTable, element);\n",
              "          const docLink = document.createElement('div');\n",
              "          docLink.innerHTML = docLinkHtml;\n",
              "          element.appendChild(docLink);\n",
              "        }\n",
              "      </script>\n",
              "    </div>\n",
              "  </div>\n",
              "  "
            ]
          },
          "metadata": {},
          "execution_count": 5
        }
      ],
      "source": [
        "## Extracting Columns \n",
        "## FASTA_com = amino acid sequence of (CDR + epitope)\n",
        "## IC50 = ic50 value \n",
        "\n",
        "df = dataset[['FASTA_com', 'IC50']].copy()\n",
        "df.head()"
      ]
    },
    {
      "cell_type": "code",
      "execution_count": 6,
      "metadata": {
        "id": "nZWPvhdvQvtm"
      },
      "outputs": [],
      "source": [
        "## Binary classification\n",
        "## When ic50 value <= 10 replace it with 1\n",
        "## when ic50 value > 10 replace it with 0\n",
        "df.loc[df['IC50'] <= 10, 'IC50'] = 1\n",
        "df.loc[df['IC50'] > 10, 'IC50'] = 0"
      ]
    },
    {
      "cell_type": "code",
      "execution_count": 7,
      "metadata": {
        "id": "sN51IrOxQvtn",
        "outputId": "95c5301e-555a-481c-ebdb-a44c8a21329a",
        "colab": {
          "base_uri": "https://localhost:8080/"
        }
      },
      "outputs": [
        {
          "output_type": "execute_result",
          "data": {
            "text/plain": [
              "FASTA_com      0\n",
              "IC50         102\n",
              "dtype: int64"
            ]
          },
          "metadata": {},
          "execution_count": 7
        }
      ],
      "source": [
        "## Checking if there are any empty rows\n",
        "df.isna().sum()"
      ]
    },
    {
      "cell_type": "code",
      "execution_count": 8,
      "metadata": {
        "id": "hHuOCMabQvto"
      },
      "outputs": [],
      "source": [
        "## Drop empty rows\n",
        "df = df.dropna()"
      ]
    },
    {
      "cell_type": "markdown",
      "metadata": {
        "id": "32e_020yQvtp"
      },
      "source": [
        "One Hot Encoding"
      ]
    },
    {
      "cell_type": "code",
      "execution_count": 9,
      "metadata": {
        "id": "QEUsaZ2VQvtq"
      },
      "outputs": [],
      "source": [
        "codes = ['A', 'C', 'D', 'E', 'F', 'G', 'H', 'I', 'K', 'L',\n",
        "         'M', 'N', 'P', 'Q', 'R', 'S', 'T', 'V', 'W', 'Y']\n",
        "\n",
        "def one_hot_encode(seq):\n",
        "    o = list(set(codes) - set(seq))\n",
        "    s = pd.DataFrame(list(seq))    \n",
        "    x = pd.DataFrame(np.zeros((len(seq),len(o)),dtype=int),columns=o)    \n",
        "    a = s[0].str.get_dummies(sep=',')\n",
        "    a = a.join(x)\n",
        "    a = a.sort_index(axis=1)\n",
        "    e = a.values.flatten()\n",
        "    return e"
      ]
    },
    {
      "cell_type": "code",
      "execution_count": 10,
      "metadata": {
        "id": "EwNVf-aCQvtr"
      },
      "outputs": [],
      "source": [
        "X = df.FASTA_com.apply(lambda x: pd.Series(one_hot_encode(x)),1)\n",
        "Y = df.IC50"
      ]
    },
    {
      "cell_type": "code",
      "execution_count": 11,
      "metadata": {
        "id": "Gs-0elBRQvtr",
        "outputId": "1e9e5f10-b8f5-403e-821b-86bba74986ba",
        "colab": {
          "base_uri": "https://localhost:8080/"
        }
      },
      "outputs": [
        {
          "output_type": "execute_result",
          "data": {
            "text/plain": [
              "0         0\n",
              "1         0\n",
              "2         0\n",
              "3         0\n",
              "4         0\n",
              "       ... \n",
              "975    1142\n",
              "976    1142\n",
              "977    1142\n",
              "978    1142\n",
              "979    1142\n",
              "Length: 980, dtype: int64"
            ]
          },
          "metadata": {},
          "execution_count": 11
        }
      ],
      "source": [
        "X.isna().sum()"
      ]
    },
    {
      "cell_type": "code",
      "execution_count": 12,
      "metadata": {
        "id": "-Ghhu53FQvtr"
      },
      "outputs": [],
      "source": [
        "X.fillna(0, inplace = True)"
      ]
    },
    {
      "cell_type": "code",
      "execution_count": 13,
      "metadata": {
        "id": "hm4A9nXwQvts"
      },
      "outputs": [],
      "source": [
        "X_train, X_test, y_train, y_test = train_test_split(X, Y, test_size=0.2, random_state= 42)"
      ]
    },
    {
      "cell_type": "code",
      "execution_count": 14,
      "metadata": {
        "id": "uJyh6iNpQvts",
        "outputId": "4d3c75d6-e8b8-4e9c-d7be-a76719e8e781",
        "colab": {
          "base_uri": "https://localhost:8080/"
        }
      },
      "outputs": [
        {
          "output_type": "stream",
          "name": "stdout",
          "text": [
            "0.8610354223433242\n"
          ]
        }
      ],
      "source": [
        "clf = SVC(kernel='linear')\n",
        "clf.fit(X_train,y_train)\n",
        "y_pred = clf.predict(X_test)\n",
        "print(accuracy_score(y_test,y_pred))"
      ]
    },
    {
      "cell_type": "code",
      "execution_count": 15,
      "metadata": {
        "id": "nlg5Y_3XQvts",
        "outputId": "74c67287-ea84-4d62-f149-80b09f5c83ef",
        "colab": {
          "base_uri": "https://localhost:8080/"
        }
      },
      "outputs": [
        {
          "output_type": "stream",
          "name": "stdout",
          "text": [
            "0.8474114441416893\n"
          ]
        }
      ],
      "source": [
        "clf = SVC(kernel='poly', degree=2)\n",
        "clf.fit(X_train,y_train)\n",
        "y_pred = clf.predict(X_test)\n",
        "print(accuracy_score(y_test,y_pred))"
      ]
    },
    {
      "cell_type": "code",
      "execution_count": 16,
      "metadata": {
        "id": "tPXsLB20Qvtt",
        "outputId": "e5239f83-ebd6-47b2-98a8-33a8808ff6e5",
        "colab": {
          "base_uri": "https://localhost:8080/"
        }
      },
      "outputs": [
        {
          "output_type": "stream",
          "name": "stdout",
          "text": [
            "0.8419618528610354\n"
          ]
        }
      ],
      "source": [
        "clf = SVC(kernel='sigmoid')\n",
        "clf.fit(X_train,y_train)\n",
        "y_pred = clf.predict(X_test)\n",
        "print(accuracy_score(y_test,y_pred))"
      ]
    },
    {
      "cell_type": "code",
      "execution_count": 17,
      "metadata": {
        "id": "_IclGc5MQvtt",
        "outputId": "75df36b4-d4b0-4fe4-9ec4-b980a76006db",
        "colab": {
          "base_uri": "https://localhost:8080/"
        }
      },
      "outputs": [
        {
          "output_type": "stream",
          "name": "stdout",
          "text": [
            "0.8419618528610354\n"
          ]
        }
      ],
      "source": [
        "clf = SVC(kernel='rbf')\n",
        "clf.fit(X_train,y_train)\n",
        "y_pred = clf.predict(X_test)\n",
        "print(accuracy_score(y_test,y_pred))"
      ]
    },
    {
      "cell_type": "markdown",
      "metadata": {
        "id": "-NWDTMiFQvtu"
      },
      "source": [
        "BLOSUM"
      ]
    },
    {
      "cell_type": "code",
      "execution_count": 18,
      "metadata": {
        "id": "VLwfzbHAQvtu",
        "outputId": "c9a749ef-9989-47fc-bba8-0e475f9d3092",
        "colab": {
          "base_uri": "https://localhost:8080/"
        }
      },
      "outputs": [
        {
          "output_type": "stream",
          "name": "stdout",
          "text": [
            "wrote config file /root/.config/epitopepredict/default.conf\n"
          ]
        },
        {
          "output_type": "stream",
          "name": "stderr",
          "text": [
            "/usr/local/lib/python3.8/dist-packages/epitopepredict/plotting.py:26: MatplotlibDeprecationWarning: The 'warn' parameter of use() is deprecated since Matplotlib 3.1 and will be removed in 3.3.  If any parameter follows 'warn', they should be pass as keyword, not positionally.\n",
            "  matplotlib.use('agg', warn=False)\n"
          ]
        }
      ],
      "source": [
        "import epitopepredict as ep\n",
        "blosum = ep.blosum62\n",
        "\n",
        "def blosum_encode(seq):\n",
        "    #encode a peptide into blosum features\n",
        "    s=list(seq)\n",
        "    x = pd.DataFrame([blosum[i] for i in seq]).reset_index(drop=True)\n",
        "    e = x.values.flatten()    \n",
        "    return e\n",
        "        "
      ]
    },
    {
      "cell_type": "code",
      "execution_count": 19,
      "metadata": {
        "id": "bXa9wMR-Qvtu"
      },
      "outputs": [],
      "source": [
        "XB = df.FASTA_com.apply(lambda x: pd.Series(blosum_encode(x)),1)"
      ]
    },
    {
      "cell_type": "code",
      "execution_count": 20,
      "metadata": {
        "id": "p_QfQOPFQvtu"
      },
      "outputs": [],
      "source": [
        "XB.fillna(0, inplace = True)"
      ]
    },
    {
      "cell_type": "code",
      "execution_count": 21,
      "metadata": {
        "id": "mQ3hlUjLQvtv",
        "outputId": "cf343a91-cc82-44a8-9ca2-19a12d90f2f4",
        "colab": {
          "base_uri": "https://localhost:8080/"
        }
      },
      "outputs": [
        {
          "output_type": "execute_result",
          "data": {
            "text/plain": [
              "0       0\n",
              "1       0\n",
              "2       0\n",
              "3       0\n",
              "4       0\n",
              "       ..\n",
              "1171    0\n",
              "1172    0\n",
              "1173    0\n",
              "1174    0\n",
              "1175    0\n",
              "Length: 1176, dtype: int64"
            ]
          },
          "metadata": {},
          "execution_count": 21
        }
      ],
      "source": [
        "XB.isna().sum()"
      ]
    },
    {
      "cell_type": "code",
      "execution_count": 22,
      "metadata": {
        "id": "Wq0CeQyfQvtv"
      },
      "outputs": [],
      "source": [
        "X_train, X_test, y_train, y_test = train_test_split(XB, Y, test_size=0.2, random_state= 42)"
      ]
    },
    {
      "cell_type": "code",
      "execution_count": 23,
      "metadata": {
        "id": "jdrwKloCQvtv",
        "outputId": "b1c473a2-3a6e-4a8a-9016-06144154f8d3",
        "colab": {
          "base_uri": "https://localhost:8080/"
        }
      },
      "outputs": [
        {
          "output_type": "stream",
          "name": "stdout",
          "text": [
            "0.8719346049046321\n"
          ]
        }
      ],
      "source": [
        "clf = SVC(kernel='linear')\n",
        "clf.fit(X_train,y_train)\n",
        "y_pred = clf.predict(X_test)\n",
        "print(accuracy_score(y_test,y_pred))"
      ]
    },
    {
      "cell_type": "code",
      "execution_count": 24,
      "metadata": {
        "id": "heRDEw6_Qvtv",
        "outputId": "4edfbcf2-4adb-408d-d0ac-eb64552dead1",
        "colab": {
          "base_uri": "https://localhost:8080/"
        }
      },
      "outputs": [
        {
          "output_type": "stream",
          "name": "stdout",
          "text": [
            "0.8283378746594006\n"
          ]
        }
      ],
      "source": [
        "clf = SVC(kernel='poly', degree=2)\n",
        "clf.fit(X_train,y_train)\n",
        "y_pred = clf.predict(X_test)\n",
        "print(accuracy_score(y_test,y_pred))"
      ]
    },
    {
      "cell_type": "code",
      "execution_count": 25,
      "metadata": {
        "id": "kFy9spkzQvtw",
        "outputId": "f595a0bb-0ccc-46bb-d56f-e2b240853888",
        "colab": {
          "base_uri": "https://localhost:8080/"
        }
      },
      "outputs": [
        {
          "output_type": "stream",
          "name": "stdout",
          "text": [
            "0.8310626702997275\n"
          ]
        }
      ],
      "source": [
        "clf = SVC(kernel='sigmoid')\n",
        "clf.fit(X_train,y_train)\n",
        "y_pred = clf.predict(X_test)\n",
        "print(accuracy_score(y_test,y_pred))"
      ]
    },
    {
      "cell_type": "code",
      "execution_count": 26,
      "metadata": {
        "id": "EOCOgi73Qvtw",
        "outputId": "2dbe1d67-9c6f-42c6-80f0-2827c356bb9e",
        "colab": {
          "base_uri": "https://localhost:8080/"
        }
      },
      "outputs": [
        {
          "output_type": "stream",
          "name": "stdout",
          "text": [
            "0.8283378746594006\n"
          ]
        }
      ],
      "source": [
        "clf = SVC(kernel='rbf')\n",
        "clf.fit(X_train,y_train)\n",
        "y_pred = clf.predict(X_test)\n",
        "print(accuracy_score(y_test,y_pred))"
      ]
    },
    {
      "cell_type": "markdown",
      "metadata": {
        "id": "jhBhjpxgQvtw"
      },
      "source": [
        "NLF"
      ]
    },
    {
      "cell_type": "code",
      "execution_count": 27,
      "metadata": {
        "id": "zHeRHPJxQvtw"
      },
      "outputs": [],
      "source": [
        "#read the matrix a csv file on github\n",
        "nlf = pd.read_csv('https://raw.githubusercontent.com/dmnfarrell/epitopepredict/master/epitopepredict/mhcdata/NLF.csv',index_col=0)\n",
        "\n",
        "def nlf_encode(seq):    \n",
        "    x = pd.DataFrame([nlf[i] for i in seq]).reset_index(drop=True)  \n",
        "    # show_matrix(x)\n",
        "    e = x.values.flatten()\n",
        "    return e"
      ]
    },
    {
      "cell_type": "code",
      "execution_count": 28,
      "metadata": {
        "id": "1MZbTV5FQvtw"
      },
      "outputs": [],
      "source": [
        "XN = df.FASTA_com.apply(lambda x: pd.Series(nlf_encode(x)),1)"
      ]
    },
    {
      "cell_type": "code",
      "execution_count": 29,
      "metadata": {
        "id": "EMPmjrj1Qvtx"
      },
      "outputs": [],
      "source": [
        "XN.fillna(0, inplace = True)"
      ]
    },
    {
      "cell_type": "code",
      "execution_count": 30,
      "metadata": {
        "id": "sCPQE-1VQvtx"
      },
      "outputs": [],
      "source": [
        "X_train, X_test, y_train, y_test = train_test_split(XN, Y, test_size=0.2, random_state= 42)"
      ]
    },
    {
      "cell_type": "code",
      "execution_count": 31,
      "metadata": {
        "id": "uL1fyR9BQvtx",
        "outputId": "1cdda409-46b0-4253-ac4d-dbba98b310fa",
        "colab": {
          "base_uri": "https://localhost:8080/"
        }
      },
      "outputs": [
        {
          "output_type": "stream",
          "name": "stdout",
          "text": [
            "0.8610354223433242\n"
          ]
        }
      ],
      "source": [
        "clf = SVC(kernel='linear')\n",
        "clf.fit(X_train,y_train)\n",
        "y_pred = clf.predict(X_test)\n",
        "print(accuracy_score(y_test,y_pred))"
      ]
    },
    {
      "cell_type": "code",
      "execution_count": 32,
      "metadata": {
        "id": "kNVeqxM1Qvtx",
        "outputId": "9dba0f0e-744a-4944-85a0-9253fbce6490",
        "colab": {
          "base_uri": "https://localhost:8080/"
        }
      },
      "outputs": [
        {
          "output_type": "stream",
          "name": "stdout",
          "text": [
            "0.8310626702997275\n"
          ]
        }
      ],
      "source": [
        "clf = SVC(kernel='poly', degree=2)\n",
        "clf.fit(X_train,y_train)\n",
        "y_pred = clf.predict(X_test)\n",
        "print(accuracy_score(y_test,y_pred))"
      ]
    },
    {
      "cell_type": "code",
      "execution_count": 33,
      "metadata": {
        "id": "wPZpzk08Qvtx",
        "outputId": "d6b0e373-ca9a-4e4d-c2a0-47eda537e902",
        "colab": {
          "base_uri": "https://localhost:8080/"
        }
      },
      "outputs": [
        {
          "output_type": "stream",
          "name": "stdout",
          "text": [
            "0.8228882833787466\n"
          ]
        }
      ],
      "source": [
        "clf = SVC(kernel='sigmoid')\n",
        "clf.fit(X_train,y_train)\n",
        "y_pred = clf.predict(X_test)\n",
        "print(accuracy_score(y_test,y_pred))"
      ]
    },
    {
      "cell_type": "code",
      "execution_count": 34,
      "metadata": {
        "id": "AmiW7JC0Qvty",
        "outputId": "6fe16bc0-91f0-4a88-8b4f-4e5d128ba126",
        "colab": {
          "base_uri": "https://localhost:8080/"
        }
      },
      "outputs": [
        {
          "output_type": "stream",
          "name": "stdout",
          "text": [
            "0.8310626702997275\n"
          ]
        }
      ],
      "source": [
        "clf = SVC(kernel='rbf')\n",
        "clf.fit(X_train,y_train)\n",
        "y_pred = clf.predict(X_test)\n",
        "print(accuracy_score(y_test,y_pred))"
      ]
    }
  ],
  "metadata": {
    "kernelspec": {
      "display_name": "Machine-Learning",
      "language": "python",
      "name": "python3"
    },
    "language_info": {
      "codemirror_mode": {
        "name": "ipython",
        "version": 3
      },
      "file_extension": ".py",
      "mimetype": "text/x-python",
      "name": "python",
      "nbconvert_exporter": "python",
      "pygments_lexer": "ipython3",
      "version": "3.9.15"
    },
    "orig_nbformat": 4,
    "vscode": {
      "interpreter": {
        "hash": "1b173bd2b8203f09e53d07427f25d579d159175d54051585125192f9427d86f4"
      }
    },
    "colab": {
      "provenance": [],
      "include_colab_link": true
    }
  },
  "nbformat": 4,
  "nbformat_minor": 0
}